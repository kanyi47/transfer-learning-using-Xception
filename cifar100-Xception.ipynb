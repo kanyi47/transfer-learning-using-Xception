{
 "cells": [
  {
   "cell_type": "code",
   "execution_count": 3,
   "id": "db932118-a029-4fdc-9d3e-55db00ac2e8c",
   "metadata": {},
   "outputs": [
    {
     "name": "stdout",
     "output_type": "stream",
     "text": [
      "The tensorboard extension is already loaded. To reload it, use:\n",
      "  %reload_ext tensorboard\n"
     ]
    }
   ],
   "source": [
    "import sys\n",
    "assert sys.version_info >= (3, 5)\n",
    "\n",
    "import tensorflow as tf\n",
    "assert tf.__version__ >= \"2.0\"\n",
    "import sklearn\n",
    "import keras\n",
    "\n",
    "%load_ext tensorboard\n",
    "\n",
    "#import other common packages\n",
    "import os\n",
    "import numpy as np\n",
    "\n",
    "#specify fig printing\n",
    "from matplotlib import pyplot as plt\n",
    "import matplotlib as mpl\n",
    "%matplotlib inline\n",
    "mpl.rc(\"axes\", labelsize=14)\n",
    "mpl.rc(\"xtick\", labelsize=12)\n",
    "mpl.rc(\"ytick\", labelsize=12)\n",
    "\n",
    "#specify location for saving figures\n",
    "project_root_dir = \".\"\n",
    "project_id = \"sun397\"\n",
    "images_path = os.path.join(project_root_dir, \"images\", project_id)\n",
    "os.makedirs(images_path, exist_ok=True)\n",
    "\n",
    "def save_fig(fig_id, tight_layout=True, fig_extension=\"png\", resolution=300):\n",
    "  path = os.path.join(images_path, fig_id + \".\" + fig_extension)\n",
    "  print(\"saving figure\", fig_id)\n",
    "  if tight_layout:\n",
    "    plt.tight_layout()\n",
    "  plt.savefig(path, format=fig_extension, dpi=resolution)\n",
    "\n",
    "#set random seed\n",
    "np.random.seed(42)\n",
    "tf.random.set_seed(42)"
   ]
  },
  {
   "cell_type": "code",
   "execution_count": 4,
   "id": "5d86abe2-5e72-444e-8d47-cec69cacee6b",
   "metadata": {},
   "outputs": [
    {
     "name": "stdout",
     "output_type": "stream",
     "text": [
      "Downloading data from https://www.cs.toronto.edu/~kriz/cifar-100-python.tar.gz\n",
      "169001437/169001437 [==============================] - 2779s 16us/step\n"
     ]
    }
   ],
   "source": [
    "from tensorflow.keras.datasets import cifar100\n",
    "(X_train_full, y_train_full), (X_test, y_test) = cifar100.load_data()"
   ]
  },
  {
   "cell_type": "code",
   "execution_count": 5,
   "id": "f7761486-68f8-4533-be5d-05f5c8edc2de",
   "metadata": {},
   "outputs": [
    {
     "name": "stdout",
     "output_type": "stream",
     "text": [
      "X_train shape : (45000, 32, 32, 3)\n",
      "y_train shape : (45000, 1)\n",
      "X_val shape : (5000, 32, 32, 3)\n",
      "y_val shape : (5000, 1)\n",
      "train_set_size : 45000\n",
      "valid_set_size : 5000\n"
     ]
    }
   ],
   "source": [
    "X_train, X_val = X_train_full[5000:], X_train_full[:5000]\n",
    "y_train, y_val = y_train_full[5000:], y_train_full[:5000]\n",
    "\n",
    "train_set_size = X_train.shape[0]\n",
    "valid_set_size = X_val.shape[0]\n",
    "\n",
    "#validate the shape of the datasets\n",
    "print(f'X_train shape : {X_train.shape}')\n",
    "print(f'y_train shape : {y_train.shape}')\n",
    "print(f'X_val shape : {X_val.shape}')\n",
    "print(f'y_val shape : {y_val.shape}')\n",
    "print(f'train_set_size : {train_set_size}')\n",
    "print(f'valid_set_size : {valid_set_size}')"
   ]
  },
  {
   "cell_type": "code",
   "execution_count": 6,
   "id": "065df122-c850-474a-9abb-cf1701224cad",
   "metadata": {},
   "outputs": [],
   "source": [
    "train_set = tf.data.Dataset.from_tensor_slices((X_train, y_train)).shuffle(len(X_train))\n",
    "val_set = tf.data.Dataset.from_tensor_slices((X_val, y_val))\n",
    "test_set = tf.data.Dataset.from_tensor_slices((X_test, y_test))"
   ]
  },
  {
   "cell_type": "code",
   "execution_count": 7,
   "id": "0ffecd67-83a4-4396-a095-7d4403b93d62",
   "metadata": {},
   "outputs": [],
   "source": [
    "#import necessary modules\n",
    "BytesList = tf.train.BytesList\n",
    "FloatList = tf.train.FloatList\n",
    "Int64List = tf.train.Int64List\n",
    "Feature = tf.train.Feature\n",
    "Features = tf.train.Features\n",
    "Example = tf.train.Example\n",
    "\n",
    "def create_example(image, label): #saves dataset to a set of TFRecord files\n",
    "  image_data = tf.io.serialize_tensor(image)\n",
    "  return Example(\n",
    "      features=Features(\n",
    "          feature={\n",
    "          \"image\": Feature(bytes_list=BytesList(value=[image_data.numpy()])),\n",
    "          \"label\": Feature(int64_list=Int64List(value=label))\n",
    "      }\n",
    "      )\n",
    "  )"
   ]
  },
  {
   "cell_type": "code",
   "execution_count": 8,
   "id": "f8f7632a-57f4-4c79-9ef7-b340c1d34457",
   "metadata": {},
   "outputs": [],
   "source": [
    "from contextlib import ExitStack\n",
    "\n",
    "def write_tfrecords(name, dataset, n_shards=10):\n",
    "  paths = [\"{}.tfrecord-{:05d}-of-{:05d}\".format(name, index, n_shards) for index in range(n_shards)]\n",
    "  with ExitStack() as stack:\n",
    "    writers = [stack.enter_context(tf.io.TFRecordWriter(path)) for path in paths]\n",
    "    for index, (image, label) in dataset.enumerate():\n",
    "      shard = index % n_shards\n",
    "      example = create_example(image, label)\n",
    "      writers[shard].write(example.SerializeToString())\n",
    "  return paths"
   ]
  },
  {
   "cell_type": "code",
   "execution_count": 9,
   "id": "273ad34a-6fd4-47c4-be16-ffc1d4759311",
   "metadata": {},
   "outputs": [],
   "source": [
    "train_filepaths = write_tfrecords(\"my_fashion_mnist.train\", train_set)\n",
    "valid_filepaths = write_tfrecords(\"my_fashion_mnist.valid\", val_set)\n",
    "test_filepaths = write_tfrecords(\"my_fashion_mnist.test\", test_set)"
   ]
  },
  {
   "cell_type": "code",
   "execution_count": 10,
   "id": "10a37349-154e-43aa-981f-c2961393bd27",
   "metadata": {},
   "outputs": [],
   "source": [
    "def preprocess(tfrecord):\n",
    "  feature_descriptions = {\n",
    "      \"image\": tf.io.FixedLenFeature([], tf.string, default_value=\"\"),\n",
    "      \"label\": tf.io.FixedLenFeature([], tf.int64, default_value=-1)\n",
    "  }\n",
    "  example = tf.io.parse_single_example(tfrecord, feature_descriptions)\n",
    "  image = tf.io.parse_tensor(example[\"image\"], out_type=tf.uint8)\n",
    "  image = tf.reshape(image, shape=[32, 32, 3])\n",
    "  image = tf.image.resize(image, [299, 299])\n",
    "  image = tf.keras.applications.xception.preprocess_input(image)\n",
    "  return image, example[\"label\"]\n",
    "\n",
    "def cifar_dataset(filepaths, n_read_threads=5, shuffle_buffer_size=None, n_parse_threads=5, batch_size=32, cache=True):\n",
    "  dataset = tf.data.TFRecordDataset(filepaths, num_parallel_reads=n_read_threads)\n",
    "  if cache:\n",
    "    dataset = dataset.cache()\n",
    "  if shuffle_buffer_size:\n",
    "    dataset = dataset.shuffle(shuffle_buffer_size)\n",
    "  dataset = dataset.map(preprocess, num_parallel_calls=n_parse_threads)\n",
    "  dataset = dataset.batch(batch_size)\n",
    "  return dataset.prefetch(1)"
   ]
  },
  {
   "cell_type": "code",
   "execution_count": 11,
   "id": "999696be-8a48-428e-9484-5b23ef83ba4b",
   "metadata": {},
   "outputs": [],
   "source": [
    "train_set = cifar_dataset(train_filepaths, shuffle_buffer_size=60000)\n",
    "valid_set = cifar_dataset(valid_filepaths)\n",
    "test_set = cifar_dataset(test_filepaths)"
   ]
  },
  {
   "cell_type": "code",
   "execution_count": 12,
   "id": "40c75cab-aae9-49b2-ba69-9466c6233e71",
   "metadata": {},
   "outputs": [
    {
     "name": "stderr",
     "output_type": "stream",
     "text": [
      "Clipping input data to the valid range for imshow with RGB data ([0..1] for floats or [0..255] for integers).\n",
      "Clipping input data to the valid range for imshow with RGB data ([0..1] for floats or [0..255] for integers).\n",
      "Clipping input data to the valid range for imshow with RGB data ([0..1] for floats or [0..255] for integers).\n",
      "Clipping input data to the valid range for imshow with RGB data ([0..1] for floats or [0..255] for integers).\n",
      "Clipping input data to the valid range for imshow with RGB data ([0..1] for floats or [0..255] for integers).\n",
      "Clipping input data to the valid range for imshow with RGB data ([0..1] for floats or [0..255] for integers).\n",
      "Clipping input data to the valid range for imshow with RGB data ([0..1] for floats or [0..255] for integers).\n",
      "Clipping input data to the valid range for imshow with RGB data ([0..1] for floats or [0..255] for integers).\n",
      "Clipping input data to the valid range for imshow with RGB data ([0..1] for floats or [0..255] for integers).\n",
      "Clipping input data to the valid range for imshow with RGB data ([0..1] for floats or [0..255] for integers).\n"
     ]
    },
    {
     "data": {
      "image/png": "[encoded data removed]",
      "text/plain": [
       "<Figure size 640x480 with 10 Axes>"
      ]
     },
     "metadata": {},
     "output_type": "display_data"
    }
   ],
   "source": [
    "#visualize a sample of the images\n",
    "for X, y in train_set.take(1):\n",
    "  for i in range(10):\n",
    "    plt.subplot(1, 10, i+1)\n",
    "    plt.imshow(X[i], cmap=\"binary\")\n",
    "    plt.axis(\"off\")\n",
    "    plt.title(str(y[i].numpy()))"
   ]
  },
  {
   "cell_type": "code",
   "execution_count": 13,
   "id": "205553cb-6698-47c2-ab5c-4fb8f31fd7b8",
   "metadata": {},
   "outputs": [
    {
     "name": "stdout",
     "output_type": "stream",
     "text": [
      "Downloading data from https://storage.googleapis.com/tensorflow/keras-applications/xception/xception_weights_tf_dim_ordering_tf_kernels_notop.h5\n",
      "83683744/83683744 [==============================] - 28s 0us/step\n"
     ]
    }
   ],
   "source": [
    "base_model = keras.applications.Xception(weights=\"imagenet\", include_top=False)\n",
    "avg = keras.layers.GlobalAveragePooling2D()(base_model.output)\n",
    "output = keras.layers.Dense(100, activation=\"softmax\")(avg)\n",
    "model = keras.Model(inputs=base_model.input, outputs=output)"
   ]
  },
  {
   "cell_type": "code",
   "execution_count": 14,
   "id": "06ea3e34-733a-464d-b879-4d1a4bad1e37",
   "metadata": {},
   "outputs": [
    {
     "name": "stdout",
     "output_type": "stream",
     "text": [
      "0 input_1\n",
      "1 block1_conv1\n",
      "2 block1_conv1_bn\n",
      "3 block1_conv1_act\n",
      "4 block1_conv2\n",
      "5 block1_conv2_bn\n",
      "6 block1_conv2_act\n",
      "7 block2_sepconv1\n",
      "8 block2_sepconv1_bn\n",
      "9 block2_sepconv2_act\n",
      "10 block2_sepconv2\n",
      "11 block2_sepconv2_bn\n",
      "12 conv2d\n",
      "13 block2_pool\n",
      "14 batch_normalization\n",
      "15 add\n",
      "16 block3_sepconv1_act\n",
      "17 block3_sepconv1\n",
      "18 block3_sepconv1_bn\n",
      "19 block3_sepconv2_act\n",
      "20 block3_sepconv2\n",
      "21 block3_sepconv2_bn\n",
      "22 conv2d_1\n",
      "23 block3_pool\n",
      "24 batch_normalization_1\n",
      "25 add_1\n",
      "26 block4_sepconv1_act\n",
      "27 block4_sepconv1\n",
      "28 block4_sepconv1_bn\n",
      "29 block4_sepconv2_act\n",
      "30 block4_sepconv2\n",
      "31 block4_sepconv2_bn\n",
      "32 conv2d_2\n",
      "33 block4_pool\n",
      "34 batch_normalization_2\n",
      "35 add_2\n",
      "36 block5_sepconv1_act\n",
      "37 block5_sepconv1\n",
      "38 block5_sepconv1_bn\n",
      "39 block5_sepconv2_act\n",
      "40 block5_sepconv2\n",
      "41 block5_sepconv2_bn\n",
      "42 block5_sepconv3_act\n",
      "43 block5_sepconv3\n",
      "44 block5_sepconv3_bn\n",
      "45 add_3\n",
      "46 block6_sepconv1_act\n",
      "47 block6_sepconv1\n",
      "48 block6_sepconv1_bn\n",
      "49 block6_sepconv2_act\n",
      "50 block6_sepconv2\n",
      "51 block6_sepconv2_bn\n",
      "52 block6_sepconv3_act\n",
      "53 block6_sepconv3\n",
      "54 block6_sepconv3_bn\n",
      "55 add_4\n",
      "56 block7_sepconv1_act\n",
      "57 block7_sepconv1\n",
      "58 block7_sepconv1_bn\n",
      "59 block7_sepconv2_act\n",
      "60 block7_sepconv2\n",
      "61 block7_sepconv2_bn\n",
      "62 block7_sepconv3_act\n",
      "63 block7_sepconv3\n",
      "64 block7_sepconv3_bn\n",
      "65 add_5\n",
      "66 block8_sepconv1_act\n",
      "67 block8_sepconv1\n",
      "68 block8_sepconv1_bn\n",
      "69 block8_sepconv2_act\n",
      "70 block8_sepconv2\n",
      "71 block8_sepconv2_bn\n",
      "72 block8_sepconv3_act\n",
      "73 block8_sepconv3\n",
      "74 block8_sepconv3_bn\n",
      "75 add_6\n",
      "76 block9_sepconv1_act\n",
      "77 block9_sepconv1\n",
      "78 block9_sepconv1_bn\n",
      "79 block9_sepconv2_act\n",
      "80 block9_sepconv2\n",
      "81 block9_sepconv2_bn\n",
      "82 block9_sepconv3_act\n",
      "83 block9_sepconv3\n",
      "84 block9_sepconv3_bn\n",
      "85 add_7\n",
      "86 block10_sepconv1_act\n",
      "87 block10_sepconv1\n",
      "88 block10_sepconv1_bn\n",
      "89 block10_sepconv2_act\n",
      "90 block10_sepconv2\n",
      "91 block10_sepconv2_bn\n",
      "92 block10_sepconv3_act\n",
      "93 block10_sepconv3\n",
      "94 block10_sepconv3_bn\n",
      "95 add_8\n",
      "96 block11_sepconv1_act\n",
      "97 block11_sepconv1\n",
      "98 block11_sepconv1_bn\n",
      "99 block11_sepconv2_act\n",
      "100 block11_sepconv2\n",
      "101 block11_sepconv2_bn\n",
      "102 block11_sepconv3_act\n",
      "103 block11_sepconv3\n",
      "104 block11_sepconv3_bn\n",
      "105 add_9\n",
      "106 block12_sepconv1_act\n",
      "107 block12_sepconv1\n",
      "108 block12_sepconv1_bn\n",
      "109 block12_sepconv2_act\n",
      "110 block12_sepconv2\n",
      "111 block12_sepconv2_bn\n",
      "112 block12_sepconv3_act\n",
      "113 block12_sepconv3\n",
      "114 block12_sepconv3_bn\n",
      "115 add_10\n",
      "116 block13_sepconv1_act\n",
      "117 block13_sepconv1\n",
      "118 block13_sepconv1_bn\n",
      "119 block13_sepconv2_act\n",
      "120 block13_sepconv2\n",
      "121 block13_sepconv2_bn\n",
      "122 conv2d_3\n",
      "123 block13_pool\n",
      "124 batch_normalization_3\n",
      "125 add_11\n",
      "126 block14_sepconv1\n",
      "127 block14_sepconv1_bn\n",
      "128 block14_sepconv1_act\n",
      "129 block14_sepconv2\n",
      "130 block14_sepconv2_bn\n",
      "131 block14_sepconv2_act\n"
     ]
    }
   ],
   "source": [
    "for index, layer in enumerate(base_model.layers):\n",
    "  print (index, layer.name)"
   ]
  },
  {
   "cell_type": "code",
   "execution_count": 15,
   "id": "b3160120-28e1-4175-a9ff-e7664e523ec4",
   "metadata": {},
   "outputs": [],
   "source": [
    "#set the model layers to trainable.false\n",
    "for layer in base_model.layers:\n",
    "  layer.trainable=False"
   ]
  },
  {
   "cell_type": "code",
   "execution_count": null,
   "id": "fe72c8d2-6b4c-4f12-b2dd-03c21804ba9d",
   "metadata": {},
   "outputs": [
    {
     "name": "stdout",
     "output_type": "stream",
     "text": [
      "Epoch 1/5\n",
      "     22/Unknown - 979s 44s/step - loss: 4.2808 - accuracy: 0.1179"
     ]
    }
   ],
   "source": [
    "#compile the model\n",
    "batch_size = 32\n",
    "optimizer = keras.optimizers.SGD(learning_rate=0.2, momentum=0.9, decay=0.01)\n",
    "model.compile(optimizer=optimizer, loss='sparse_categorical_crossentropy', metrics=[\"accuracy\"])\n",
    "history = model.fit(train_set, validation_data = valid_set, epochs=5)"
   ]
  },
  {
   "cell_type": "code",
   "execution_count": null,
   "id": "63216aa6-b0ae-448e-b110-9d088887108c",
   "metadata": {},
   "outputs": [],
   "source": []
  }
 ],
 "metadata": {
  "kernelspec": {
   "display_name": "neural_networks",
   "language": "python",
   "name": "neural_networks"
  },
  "language_info": {
   "codemirror_mode": {
    "name": "ipython",
    "version": 3
   },
   "file_extension": ".py",
   "mimetype": "text/x-python",
   "name": "python",
   "nbconvert_exporter": "python",
   "pygments_lexer": "ipython3",
   "version": "3.9.13"
  }
 },
 "nbformat": 4,
 "nbformat_minor": 5
}
